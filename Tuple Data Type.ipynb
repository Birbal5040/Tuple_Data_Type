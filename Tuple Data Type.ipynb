{
 "cells": [
  {
   "cell_type": "markdown",
   "id": "0d960321-a947-4925-bfdd-d1be11548462",
   "metadata": {},
   "source": [
    "# Tuple Data Type"
   ]
  },
  {
   "cell_type": "markdown",
   "id": "b1c40ac0-9671-41f0-a281-a2d7a66cbd04",
   "metadata": {},
   "source": [
    "Tuple is use to store multiple items in a single variable"
   ]
  },
  {
   "cell_type": "markdown",
   "id": "5b58d0af-0f1c-4a49-9492-1a0fcff91f45",
   "metadata": {},
   "source": [
    "### Some Properties of Tuple"
   ]
  },
  {
   "cell_type": "markdown",
   "id": "c06490c3-e015-421c-bfc4-c19a670ef3c0",
   "metadata": {},
   "source": [
    "i1.Ordered\n",
    "2.Indexed\n",
    "3.immutable\n",
    "4.Duplicate are allowed\n",
    "5.Any data type allowed\n",
    "6.Mixed different data type are allow\n"
   ]
  },
  {
   "cell_type": "code",
   "execution_count": 1,
   "id": "2d62d252-c2bb-4e6b-907e-d7c82618b9cf",
   "metadata": {},
   "outputs": [
    {
     "name": "stdout",
     "output_type": "stream",
     "text": [
      "(12, 32, 34, 56, 65) <class 'tuple'>\n"
     ]
    }
   ],
   "source": [
    "tuple=(12,32,34,56,65) # This is tuple\n",
    "print(tuple[:],type(tuple))"
   ]
  },
  {
   "cell_type": "markdown",
   "id": "75498fba-528d-4d42-9430-353edf66d687",
   "metadata": {},
   "source": [
    "### Empty Tuple"
   ]
  },
  {
   "cell_type": "code",
   "execution_count": 2,
   "id": "021c35e0-12e6-4eb2-9112-b05b0b2a5fd3",
   "metadata": {},
   "outputs": [
    {
     "name": "stdout",
     "output_type": "stream",
     "text": [
      "<class 'tuple'>\n",
      "<class 'int'>\n",
      ">>>>>>>>>>>>>>>>\n",
      "<class 'tuple'>\n"
     ]
    }
   ],
   "source": [
    "tu=()\n",
    "print(type(tu))\n",
    "tuple=(5)  # This is Integer Data type\n",
    "print(type(tuple))\n",
    "\n",
    "print(\">>>>>>>>>>>>>>>>\")\n",
    "\n",
    "tuple2=(5,) # This is Tuple data type\n",
    "print(type(tuple2))"
   ]
  },
  {
   "cell_type": "markdown",
   "id": "342bd41b-ec6f-4f35-bd36-a07be59ee34e",
   "metadata": {},
   "source": [
    "### TypeCasting"
   ]
  },
  {
   "cell_type": "code",
   "execution_count": 3,
   "id": "ecf681ee-d4aa-4336-a500-f483198b69f0",
   "metadata": {},
   "outputs": [
    {
     "name": "stdout",
     "output_type": "stream",
     "text": [
      "[23, 32, 45, 554, 'Birbal kumar'] <class 'list'>\n"
     ]
    },
    {
     "ename": "TypeError",
     "evalue": "'int' object is not callable",
     "output_type": "error",
     "traceback": [
      "\u001b[1;31m---------------------------------------------------------------------------\u001b[0m",
      "\u001b[1;31mTypeError\u001b[0m                                 Traceback (most recent call last)",
      "Cell \u001b[1;32mIn[3], line 6\u001b[0m\n\u001b[0;32m      3\u001b[0m \u001b[38;5;28mlist\u001b[39m\u001b[38;5;241m=\u001b[39m[\u001b[38;5;241m23\u001b[39m,\u001b[38;5;241m32\u001b[39m,\u001b[38;5;241m45\u001b[39m,\u001b[38;5;241m554\u001b[39m,\u001b[38;5;124m\"\u001b[39m\u001b[38;5;124mBirbal kumar\u001b[39m\u001b[38;5;124m\"\u001b[39m]\n\u001b[0;32m      4\u001b[0m \u001b[38;5;28mprint\u001b[39m(\u001b[38;5;28mlist\u001b[39m,\u001b[38;5;28mtype\u001b[39m(\u001b[38;5;28mlist\u001b[39m))\n\u001b[1;32m----> 6\u001b[0m number\u001b[38;5;241m=\u001b[39m\u001b[38;5;28;43mtuple\u001b[39;49m\u001b[43m(\u001b[49m\u001b[38;5;28;43mlist\u001b[39;49m\u001b[43m)\u001b[49m\n\u001b[0;32m      7\u001b[0m \u001b[38;5;28mprint\u001b[39m(number,\u001b[38;5;28mtype\u001b[39m(number))\n",
      "\u001b[1;31mTypeError\u001b[0m: 'int' object is not callable"
     ]
    }
   ],
   "source": [
    "# List to Tuple\n",
    "\n",
    "list=[23,32,45,554,\"Birbal kumar\"]\n",
    "print(list,type(list))\n",
    "\n",
    "number=tuple(list)\n",
    "print(number,type(number))"
   ]
  },
  {
   "cell_type": "code",
   "execution_count": null,
   "id": "17253863-fef9-4b39-aa73-7e4ec71c590e",
   "metadata": {},
   "outputs": [],
   "source": [
    "str=\"Birbal kumar\"\n",
    "tt=tuple(str)\n",
    "print(type(tt))"
   ]
  },
  {
   "cell_type": "markdown",
   "id": "705c9587-60fb-4848-b33f-a8b61f42633b",
   "metadata": {},
   "source": [
    "# Indexing\n"
   ]
  },
  {
   "cell_type": "code",
   "execution_count": null,
   "id": "6d1df4e6-6be3-4d1d-b590-30701e62a855",
   "metadata": {},
   "outputs": [],
   "source": [
    "tuple=(\"Birbal\",\"Gulshan\",\"Lavkush\",\"Gautam\")\n",
    "print(tuple[2])"
   ]
  },
  {
   "cell_type": "code",
   "execution_count": null,
   "id": "75cea796-523f-454c-9fb4-3b0ac7a87bf6",
   "metadata": {},
   "outputs": [],
   "source": [
    "print(tuple[:],type(tuple))"
   ]
  },
  {
   "cell_type": "markdown",
   "id": "19a48878-c544-473f-a95e-1b10c227eaef",
   "metadata": {},
   "source": [
    "# Negative Indexing"
   ]
  },
  {
   "cell_type": "code",
   "execution_count": null,
   "id": "aba2ee37-d892-450d-b73e-7ab68e4284b0",
   "metadata": {},
   "outputs": [],
   "source": [
    "tuple=(\"Birbal\",\"Gulshan\",\"Lavkush\",\"Gautam\")\n",
    "print(tuple[-1])"
   ]
  },
  {
   "cell_type": "code",
   "execution_count": null,
   "id": "4aca98a2-a76b-4ddc-8233-e24e0ce0c91c",
   "metadata": {},
   "outputs": [],
   "source": [
    "print(tuple[::-1])"
   ]
  },
  {
   "cell_type": "code",
   "execution_count": null,
   "id": "b52ab582-2c17-49e6-88af-32b285e520c3",
   "metadata": {},
   "outputs": [],
   "source": [
    "print(tuple[1:4])"
   ]
  },
  {
   "cell_type": "markdown",
   "id": "62ba86b5-5f2b-46b8-894c-1669b8ed0a34",
   "metadata": {},
   "source": [
    "# Reverse the Tuple"
   ]
  },
  {
   "cell_type": "code",
   "execution_count": null,
   "id": "16d2949e-a34a-43a8-9c16-8199efd90168",
   "metadata": {},
   "outputs": [],
   "source": [
    "tuple=(\"India\",\"Russia\",\"China\",\"Brazil\",\"Iran\")\n",
    "print(\"Original Tuple is: \",tuple)\n",
    "print(\"Reversing tuple is: \",tuple[::-1])"
   ]
  },
  {
   "cell_type": "markdown",
   "id": "b5a13430-5c98-47ee-b306-37fb67a35e35",
   "metadata": {},
   "source": [
    "# Duplicate Are Allowed In Tuple"
   ]
  },
  {
   "cell_type": "code",
   "execution_count": null,
   "id": "ec86e903-35fc-4694-92b5-768419d042e4",
   "metadata": {},
   "outputs": [],
   "source": [
    "tuple=(\"Birbal\",\"Gulshan\",\"Lavkush\",\"Gautam\",\"Birbal\",\"Lavkush\")\n",
    "print(tuple[::])"
   ]
  },
  {
   "cell_type": "markdown",
   "id": "300b4892-aca1-488b-94bf-02165eca440f",
   "metadata": {},
   "source": [
    "# Count and Index Method"
   ]
  },
  {
   "cell_type": "code",
   "execution_count": null,
   "id": "fb7e64c5-7e09-47d7-9b32-4895c0b6d6e8",
   "metadata": {},
   "outputs": [],
   "source": [
    "tuple=(\"Birbal\",\"Gulshan\",\"Lavkush\",\"Gautam\",\"Birbal\",\"Lavkush\")\n",
    "print(tuple.count(\"Birbal\"))\n",
    "print(tuple.count(\"Gautam\"))\n",
    "print(tuple.count(\"Arvind\"))"
   ]
  },
  {
   "cell_type": "code",
   "execution_count": null,
   "id": "84f1e30a-c891-4716-a732-ea91fd51d6a7",
   "metadata": {},
   "outputs": [],
   "source": [
    "tuple=(\"Birbal\",\"Gulshan\",\"Lavkush\",\"Gautam\",\"Birbal\",\"Lavkush\")\n",
    "print(tuple.index(\"Gulshan\"))\n",
    "print(tuple.index(\"Birbal\"))"
   ]
  },
  {
   "cell_type": "markdown",
   "id": "ea986e0b-401f-4207-8fd4-6d40d718640a",
   "metadata": {},
   "source": [
    "# Add Tuple to Tuple"
   ]
  },
  {
   "cell_type": "code",
   "execution_count": null,
   "id": "0fb94571-5bb4-444c-9829-88f32c73395b",
   "metadata": {},
   "outputs": [],
   "source": [
    "tuple=(\"Birbal\",\"Gulshan\",\"Lavkush\",\"Gautam\",\"Birbal\",\"Lavkush\")\n",
    "tuple+=(\"Harishankar\",)\n",
    "print(tuple)"
   ]
  },
  {
   "cell_type": "markdown",
   "id": "27e7f1c3-c6c7-4179-97e1-4b7dd5dc4974",
   "metadata": {},
   "source": [
    "# Join two tuple"
   ]
  },
  {
   "cell_type": "code",
   "execution_count": null,
   "id": "77dcb8f7-f74a-4939-b0e3-9c0ba81a9292",
   "metadata": {},
   "outputs": [],
   "source": [
    "tuple1=(\"Birbal\",\"Gulshan\",\"Lavkush\",\"Gautam\")\n",
    "tuple2=(\"Harishanka\",\"Ezaj\",\"Ankit\")\n",
    "tuple3=tuple1+tuple2\n",
    "print(type(tuple3))\n",
    "\n",
    "for i in tuple3:\n",
    "    print(i)\n"
   ]
  },
  {
   "cell_type": "markdown",
   "id": "f580c3bb-c252-4754-996a-7343760004ba",
   "metadata": {},
   "source": [
    "# Remove items in tuple"
   ]
  },
  {
   "cell_type": "code",
   "execution_count": null,
   "id": "d1c6944c-f916-47fc-8b6d-324c62be6096",
   "metadata": {},
   "outputs": [],
   "source": [
    "# convert Tuple to List after apply Remove function"
   ]
  },
  {
   "cell_type": "markdown",
   "id": "8a7d8224-18eb-4bb5-be5c-8c267be09344",
   "metadata": {},
   "source": [
    "# Multiply Tuple"
   ]
  },
  {
   "cell_type": "code",
   "execution_count": null,
   "id": "352136bb-0a93-4c5b-b895-3aecd0bc17cf",
   "metadata": {},
   "outputs": [],
   "source": [
    "tuple=(\"Birbal\",\"Gulshan\",\"Lavkush\",\"Gautam\")\n",
    "print(tuple*2)\n"
   ]
  },
  {
   "cell_type": "code",
   "execution_count": null,
   "id": "7bcc0d5d-79b6-4415-9cb8-e4780e7c096b",
   "metadata": {},
   "outputs": [],
   "source": []
  },
  {
   "cell_type": "markdown",
   "id": "cc79c53f-ff2b-4aa3-b1d3-6f879e1c5e51",
   "metadata": {},
   "source": [
    "# Some Problem On Tuple"
   ]
  },
  {
   "cell_type": "markdown",
   "id": "52d19939-0421-49bd-80e6-d54ef15fe147",
   "metadata": {},
   "source": [
    "### Write a Python program to access the second and last elements of a tuple."
   ]
  },
  {
   "cell_type": "code",
   "execution_count": null,
   "id": "baa06d04-a375-4b27-9aef-2b1f9bfcab9f",
   "metadata": {},
   "outputs": [],
   "source": [
    "tuple=(\"Birbal\",\"Gulshan\",\"Lavkush\",\"Gautam\")\n",
    "# lt=list(tuple)\n",
    "# lt.sort\n",
    "# print(\"your second element\")\n",
    "\n",
    "print(\"Your second Element: \",tuple[1],\"\\n\",\"Your last element is: \",tuple[-1])"
   ]
  },
  {
   "cell_type": "markdown",
   "id": "7c4e26c6-4cf6-4e22-8e55-671bc659b896",
   "metadata": {},
   "source": [
    "# Write a Python program to concatenate two tuples."
   ]
  },
  {
   "cell_type": "code",
   "execution_count": null,
   "id": "55c3cffc-eb55-4f4c-a135-369189230c86",
   "metadata": {},
   "outputs": [],
   "source": [
    "tuple1=(12,2,3,4,5,4)\n",
    "tuple2=(23,43,54,66)\n",
    "print(tuple1+tuple2)\n",
    "\n",
    "    \n"
   ]
  },
  {
   "cell_type": "markdown",
   "id": "4a814722-cab2-449c-8595-ff116dfca7a6",
   "metadata": {},
   "source": [
    "# Write a Python program to count how many times the number 2 appears in a tuple.\n",
    "\n"
   ]
  },
  {
   "cell_type": "code",
   "execution_count": null,
   "id": "18106f36-c04c-418b-8c44-67d6038c358c",
   "metadata": {},
   "outputs": [],
   "source": [
    "string=input(\"Enter number: \")\n",
    "t=tuple(map(int,string.split(',')))\n",
    "y=t.count(2)\n",
    "print(t,y)"
   ]
  },
  {
   "cell_type": "markdown",
   "id": "27b00aa9-26db-43d7-bd80-1daf7a3f65f2",
   "metadata": {},
   "source": [
    "# Write a Python program to find the length of a tuple."
   ]
  },
  {
   "cell_type": "code",
   "execution_count": 5,
   "id": "a1e7e447-198e-4a2a-b155-2912c29a0a6d",
   "metadata": {},
   "outputs": [
    {
     "name": "stdin",
     "output_type": "stream",
     "text": [
      "Enter size of tuple:  4\n",
      "Enter number:  78\n",
      "Enter number:  45\n",
      "Enter number:  25\n",
      "Enter number:  56\n"
     ]
    },
    {
     "ename": "TypeError",
     "evalue": "'int' object is not callable",
     "output_type": "error",
     "traceback": [
      "\u001b[1;31m---------------------------------------------------------------------------\u001b[0m",
      "\u001b[1;31mTypeError\u001b[0m                                 Traceback (most recent call last)",
      "Cell \u001b[1;32mIn[5], line 7\u001b[0m\n\u001b[0;32m      4\u001b[0m     new_list\u001b[38;5;241m=\u001b[39m\u001b[38;5;28mint\u001b[39m(\u001b[38;5;28minput\u001b[39m(\u001b[38;5;124m\"\u001b[39m\u001b[38;5;124mEnter number: \u001b[39m\u001b[38;5;124m\"\u001b[39m))\n\u001b[0;32m      5\u001b[0m     \u001b[38;5;28mlist\u001b[39m\u001b[38;5;241m.\u001b[39mappend(new_list)\n\u001b[1;32m----> 7\u001b[0m t\u001b[38;5;241m=\u001b[39m\u001b[38;5;28;43mtuple\u001b[39;49m\u001b[43m(\u001b[49m\u001b[38;5;28;43mlist\u001b[39;49m\u001b[43m)\u001b[49m\n\u001b[0;32m      8\u001b[0m \u001b[38;5;28mprint\u001b[39m(t)\n",
      "\u001b[1;31mTypeError\u001b[0m: 'int' object is not callable"
     ]
    }
   ],
   "source": [
    "list=[]\n",
    "num=int(input(\"Enter size of tuple: \"))\n",
    "for i in range(num):\n",
    "    new_list=int(input(\"Enter number: \"))\n",
    "    list.append(new_list)\n",
    "\n",
    "t=tuple(list)\n",
    "print(t)"
   ]
  },
  {
   "cell_type": "code",
   "execution_count": null,
   "id": "9f4b1f02-4969-46c0-9675-5b273db7afec",
   "metadata": {},
   "outputs": [],
   "source": []
  },
  {
   "cell_type": "code",
   "execution_count": null,
   "id": "ab174ae0-8cd0-4fad-b0d7-6b80f81c0191",
   "metadata": {},
   "outputs": [],
   "source": []
  },
  {
   "cell_type": "code",
   "execution_count": null,
   "id": "516e80e2-71b8-4192-8690-fae80d92fded",
   "metadata": {},
   "outputs": [],
   "source": []
  },
  {
   "cell_type": "code",
   "execution_count": null,
   "id": "74ccf857-8a7e-4b4b-9b6c-2f6f320a6eeb",
   "metadata": {},
   "outputs": [],
   "source": []
  },
  {
   "cell_type": "code",
   "execution_count": null,
   "id": "9db61aa3-a366-4895-aef5-cfe31f1fa97c",
   "metadata": {},
   "outputs": [],
   "source": []
  },
  {
   "cell_type": "code",
   "execution_count": null,
   "id": "9c2945eb-f8fe-4a9a-b5ad-4e13c8c181ae",
   "metadata": {},
   "outputs": [],
   "source": []
  },
  {
   "cell_type": "code",
   "execution_count": null,
   "id": "a0d7d672-928d-403f-8d04-072aae124e7d",
   "metadata": {},
   "outputs": [],
   "source": []
  }
 ],
 "metadata": {
  "kernelspec": {
   "display_name": "Python 3 (ipykernel)",
   "language": "python",
   "name": "python3"
  },
  "language_info": {
   "codemirror_mode": {
    "name": "ipython",
    "version": 3
   },
   "file_extension": ".py",
   "mimetype": "text/x-python",
   "name": "python",
   "nbconvert_exporter": "python",
   "pygments_lexer": "ipython3",
   "version": "3.12.4"
  }
 },
 "nbformat": 4,
 "nbformat_minor": 5
}
